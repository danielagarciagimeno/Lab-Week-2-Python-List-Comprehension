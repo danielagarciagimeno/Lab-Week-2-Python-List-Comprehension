{
 "cells": [
  {
   "cell_type": "markdown",
   "id": "25d7736c-ba17-4aff-b6bb-66eba20fbf4e",
   "metadata": {},
   "source": [
    "# Lab | List, Dict and Set Comprehension"
   ]
  },
  {
   "cell_type": "markdown",
   "id": "7dd3cbde-675a-4b81-92c3-f728846dbe06",
   "metadata": {},
   "source": [
    "## Exercise: Managing Customer Orders Optimized with Comprehension"
   ]
  },
  {
   "cell_type": "markdown",
   "id": "5d500160-2fb7-4777-b5e4-09d45ebaf328",
   "metadata": {},
   "source": [
    "In the previous exercise, you developed a program to manage customer orders and inventory. Now, let's take it a step further and incorporate comprehension into your code.\n",
    "\n",
    "Follow the steps below to complete the exercise:\n",
    "\n",
    "1. Review your code from the previous exercise and identify areas where you can apply comprehension to simplify and streamline your code. \n",
    "\n",
    "    - *Hint: Apply it to initialize inventory, updating the inventory and printing the updated inventory.*\n",
    "    \n",
    "    - For example, in initializing the inventory, we could have:\n",
    "    \n",
    "        ```python\n",
    "        def initialize_inventory(products):\n",
    "            inventory = {product: int(input(f\"Enter the quantity of {product}s available: \")) for product in products}\n",
    "            return inventory\n",
    "\n",
    "        ```\n",
    "<br>\n",
    "    \n",
    "    \n",
    "2. Modify the function get_customer_orders so it prompts the user to enter the number of customer orders and gathers the product names using a loop and user input. Use comprehension.\n",
    "\n",
    "3. Add a new function to calculate the total price of the customer order. For each product in customer_orders, prompt the user to enter the price of that product. Use comprehension to calculate the total price. Note: assume that the user can only have 1 unit of each product.\n",
    "\n",
    "4. Modify the update_inventory function to remove the product from the inventory if its quantity becomes zero after fulfilling the customer orders. Use comprehension to filter out the products with a quantity of zero from the inventory.\n",
    "\n",
    "5. Print the total price of the customer order.\n",
    "\n",
    "Your code should produce output similar to the following:\n",
    "\n",
    "```python\n",
    "Enter the quantity of t-shirts available:  5\n",
    "Enter the quantity of mugs available:  4\n",
    "Enter the quantity of hats available:  3\n",
    "Enter the quantity of books available:  2\n",
    "Enter the quantity of keychains available:  1\n",
    "Enter the number of customer orders:  2\n",
    "Enter the name of a product that a customer wants to order:  hat\n",
    "Enter the name of a product that a customer wants to order:  keychain\n",
    "\n",
    "Order Statistics:\n",
    "Total Products Ordered: 2\n",
    "Percentage of Unique Products Ordered: 40.0\n",
    "\n",
    "Updated Inventory:\n",
    "t-shirt: 5\n",
    "mug: 4\n",
    "hat: 2\n",
    "book: 2\n",
    "Enter the price of keychain:  5\n",
    "Enter the price of hat:  10\n",
    "Total Price: 15.0\n",
    "\n",
    "```\n"
   ]
  },
  {
   "cell_type": "code",
   "execution_count": 144,
   "id": "ed088f2a-6250-4951-9815-474ba9089a9c",
   "metadata": {},
   "outputs": [],
   "source": [
    "def get_valid_quantity(product):\n",
    "    while True:\n",
    "        quantity = input(f\"Enter the quantity of {product}s available: \")\n",
    "        if quantity.isdigit():\n",
    "            return int(quantity)\n",
    "        else:\n",
    "            print(f\"{quantity} is not a valid quantity.\")\n",
    "\n",
    "def initialize_inventory(products):\n",
    "    inventory = {product: get_valid_quantity(product) for product in products}\n",
    "    return inventory\n",
    "    "
   ]
  },
  {
   "cell_type": "code",
   "execution_count": 145,
   "id": "3288180c-6006-4c35-86cc-2bab38da8b01",
   "metadata": {},
   "outputs": [],
   "source": [
    "def update_inventory(customer_orders, inventory):\n",
    "    not_in_inventory = [product for product in customer_orders if product not in inventory]\n",
    "    not_available = [product for product in customer_orders if product in inventory and inventory[product] <= 0]\n",
    "\n",
    "    for product in not_in_inventory:\n",
    "        print(f\"{product} doesn't exist in this inventory.\")\n",
    "    for product in not_available:\n",
    "        print(f\"{product} not available.\")\n",
    "    \n",
    "    # Disminuir el inventario para los productos pedidos por el cliente\n",
    "    inventory = {product: inventory[product] - 1 if product in customer_orders else quantity for product, quantity in inventory.items()}\n",
    "    \n",
    "    # Filtrar productos con cantidad mayor que cero\n",
    "    updated_inventory = {product: quantity for product, quantity in inventory.items() if quantity > 0}\n",
    "    \n",
    "    return updated_inventory\n"
   ]
  },
  {
   "cell_type": "code",
   "execution_count": 146,
   "id": "bdf5683a-693a-442f-9c35-b9f02b5a4352",
   "metadata": {},
   "outputs": [],
   "source": [
    "def print_updated_inventory(inventory):\n",
    "    inventory={product:quantity for product,quantity in inventory.items()}\n",
    "    return print(\"Updated inventory: \", inventory)\n"
   ]
  },
  {
   "cell_type": "code",
   "execution_count": 147,
   "id": "44c41c68-0a6b-4f69-807b-77c8bf18f9b0",
   "metadata": {},
   "outputs": [],
   "source": [
    "def get_customer_orders():\n",
    "    products = [\"t-shirt\", \"mug\", \"hat\", \"book\", \"keychain\"]\n",
    "    \n",
    "    # Pedir el número de pedidos al usuario\n",
    "    while True:\n",
    "        try:\n",
    "            num_orders = int(input(\"Enter the number of customer orders: \").strip())\n",
    "            if num_orders > 0:\n",
    "                break\n",
    "            else:\n",
    "                print(\"Please enter a positive number.\")\n",
    "        except ValueError:\n",
    "            print(\"Please enter a valid number.\")\n",
    "    \n",
    "    customer_orders_list = []\n",
    "    for _ in range(num_orders):\n",
    "        while True:\n",
    "            product = input(\"Enter the name of a product that a customer wants to order: \").strip().lower()\n",
    "            if product in products:\n",
    "                customer_orders_list.append(product)\n",
    "                print(f\"{product} has been added to your order.\")\n",
    "                break\n",
    "            else:\n",
    "                print(f\"{product} is not a valid product. Please choose from the list: {products}\")\n",
    "\n",
    "    customer_orders = {product for product in customer_orders_list}\n",
    "    return customer_orders\n"
   ]
  },
  {
   "cell_type": "code",
   "execution_count": 148,
   "id": "dab7e41b-f5e0-4349-b0af-a3e720c63d8d",
   "metadata": {},
   "outputs": [],
   "source": [
    "def total_price(customer_orders):\n",
    "    total_price=[int(input(\"Enter the price of the \"f\" {product}\"\": \").strip()) for product in customer_orders]\n",
    "    return sum(total_price)"
   ]
  },
  {
   "cell_type": "code",
   "execution_count": 149,
   "id": "775d0960-af51-4a51-a32f-ad782cffce25",
   "metadata": {},
   "outputs": [
    {
     "name": "stdout",
     "output_type": "stream",
     "text": [
      "Total Products Ordered:  2\n",
      "Percentage of Products Ordered:  40.0 %\n"
     ]
    }
   ],
   "source": [
    "def calculate_order_statistics (customer_orders,products):\n",
    "    total_products_ordered = len(customer_orders)\n",
    "    percentage_products_ordered = (total_products_ordered / len(products)) * 100\n",
    "    return(total_products_ordered, percentage_products_ordered)\n",
    "\n",
    "total_products_ordered, percentage_products_ordered=calculate_order_statistics (customer_orders,products)\n",
    "print(\"Total Products Ordered: \",total_products_ordered)\n",
    "print(\"Percentage of Products Ordered: \",percentage_products_ordered,\"%\")\n",
    "\n",
    "def print_order_statistics (order_statistics):\n",
    "    total_products_ordered, percentage_products_ordered=order_statistics\n",
    "    print(\"Order Statistics: \")\n",
    "    print(\"Total Products Ordered: \",total_products_ordered)\n",
    "    print(\"Percentage of Products Ordered: \",percentage_products_ordered,\"%\")"
   ]
  },
  {
   "cell_type": "code",
   "execution_count": 150,
   "id": "f3f65e4f-ecd8-468c-9712-8963227703ae",
   "metadata": {},
   "outputs": [
    {
     "name": "stdin",
     "output_type": "stream",
     "text": [
      "Enter the quantity of t-shirts available:  10\n",
      "Enter the quantity of mugs available:  10\n",
      "Enter the quantity of hats available:  101\n",
      "Enter the quantity of books available:  10\n",
      "Enter the quantity of keychains available:  10\n",
      "Enter the number of customer orders:  2\n",
      "Enter the name of a product that a customer wants to order:  mug\n"
     ]
    },
    {
     "name": "stdout",
     "output_type": "stream",
     "text": [
      "mug has been added to your order.\n"
     ]
    },
    {
     "name": "stdin",
     "output_type": "stream",
     "text": [
      "Enter the name of a product that a customer wants to order:  hat\n"
     ]
    },
    {
     "name": "stdout",
     "output_type": "stream",
     "text": [
      "hat has been added to your order.\n",
      "\n",
      "\n",
      "Order Statistics: \n",
      "Total Products Ordered:  2\n",
      "Percentage of Products Ordered:  40.0 %\n",
      "\n",
      "\n",
      "Updated inventory:  {'t-shirt': 10, 'mug': 9, 'hat': 100, 'book': 10, 'keychain': 10}\n"
     ]
    },
    {
     "name": "stdin",
     "output_type": "stream",
     "text": [
      "Enter the price of the  mug:  6\n",
      "Enter the price of the  hat:  4\n"
     ]
    },
    {
     "name": "stdout",
     "output_type": "stream",
     "text": [
      "Total Price:  10\n"
     ]
    }
   ],
   "source": [
    "products = [\"t-shirt\", \"mug\", \"hat\", \"book\", \"keychain\"]\n",
    "inventory = initialize_inventory(products)\n",
    "customer_orders = get_customer_orders()\n",
    "inventory = update_inventory(customer_orders, inventory)\n",
    "print(\"\\n\")\n",
    "order_statistics = calculate_order_statistics(customer_orders, products)\n",
    "print_order_statistics(order_statistics)\n",
    "print(\"\\n\")\n",
    "print_updated_inventory(inventory)\n",
    "\n",
    "print(\"Total Price: \", total_price(customer_orders))"
   ]
  },
  {
   "cell_type": "code",
   "execution_count": null,
   "id": "cc35fd21-87f6-4cb0-b1f2-d9a697fdb696",
   "metadata": {},
   "outputs": [],
   "source": []
  }
 ],
 "metadata": {
  "kernelspec": {
   "display_name": "Python 3 (ipykernel)",
   "language": "python",
   "name": "python3"
  },
  "language_info": {
   "codemirror_mode": {
    "name": "ipython",
    "version": 3
   },
   "file_extension": ".py",
   "mimetype": "text/x-python",
   "name": "python",
   "nbconvert_exporter": "python",
   "pygments_lexer": "ipython3",
   "version": "3.12.4"
  }
 },
 "nbformat": 4,
 "nbformat_minor": 5
}
